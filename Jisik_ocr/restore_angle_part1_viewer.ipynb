{
 "cells": [
  {
   "cell_type": "code",
   "execution_count": null,
   "metadata": {},
   "outputs": [],
   "source": [
    "import os\n",
    "os.chdir(\"/data/ephemeral/home/upstage-cv\")\n",
    "\n",
    "import cv2\n",
    "from src.notebooks.detect_angle_history.restore_angle_part1 import display_images, rotate_by_contour_angle\n",
    "\n",
    "\n",
    "input_folder = \"data/raw/test\"\n",
    "output_folder = \"data/processed/restore_angle_image\"\n",
    "\n",
    "if not os.path.exists(output_folder):\n",
    "    os.makedirs(output_folder)\n",
    "\n",
    "# 이미지 파일 목록 가져오기 및 상위 10개로 제한\n",
    "image_files = [\n",
    "    f for f in os.listdir(input_folder) \n",
    "    if f.lower().endswith((\".png\", \".jpg\", \".jpeg\", \".bmp\"))\n",
    "][:10]  # 상위 10개만 선택\n",
    "\n",
    "non_polygon_count = 0\n",
    "\n",
    "# 각 이미지에 대해 처리 및 시각화\n",
    "for idx, file_name in enumerate(image_files):\n",
    "    input_path = os.path.join(input_folder, file_name)\n",
    "    output_path = os.path.join(output_folder, file_name)\n",
    "\n",
    "    img = cv2.imread(input_path)\n",
    "    if img is None:\n",
    "        print(f\"Cannot read image: {input_path}\")\n",
    "        continue\n",
    "\n",
    "    rotated_img, contour_img, success = rotate_by_contour_angle(img)\n",
    "    \n",
    "    # 시각화 수행\n",
    "    if success:\n",
    "        display_images(idx, img, contour_img, rotated_img)\n",
    "    else:\n",
    "        non_polygon_count += 1\n",
    "        display_images(idx, img, contour_img, img)\n",
    "        \n",
    "    # 결과 저장\n",
    "    cv2.imwrite(output_path, rotated_img if success else img)\n",
    "\n",
    "print(f\"\\n총 이미지 수: {len(image_files)}\")\n",
    "print(f\"4,6,8각형으로 근사화되지 않은 이미지 수: {non_polygon_count}\")"
   ]
  },
  {
   "cell_type": "code",
   "execution_count": null,
   "metadata": {},
   "outputs": [],
   "source": []
  }
 ],
 "metadata": {
  "kernelspec": {
   "display_name": ".venv",
   "language": "python",
   "name": "python3"
  },
  "language_info": {
   "codemirror_mode": {
    "name": "ipython",
    "version": 3
   },
   "file_extension": ".py",
   "mimetype": "text/x-python",
   "name": "python",
   "nbconvert_exporter": "python",
   "pygments_lexer": "ipython3",
   "version": "3.10.13"
  }
 },
 "nbformat": 4,
 "nbformat_minor": 2
}
